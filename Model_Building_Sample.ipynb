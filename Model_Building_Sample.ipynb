{
 "cells": [
  {
   "cell_type": "code",
   "execution_count": 1,
   "id": "fc9bbf9f",
   "metadata": {},
   "outputs": [],
   "source": [
    "import pandas as pd\n",
    "import numpy as np\n",
    "from sklearn.model_selection import train_test_split\n",
    "from sklearn.pipeline import Pipeline\n",
    "from sklearn.compose import ColumnTransformer\n",
    "from sklearn.preprocessing import OneHotEncoder\n",
    "from sklearn.preprocessing import StandardScaler\n",
    "from sklearn.neighbors import KNeighborsClassifier\n",
    "from sklearn.tree import DecisionTreeClassifier\n",
    "from sklearn.ensemble import RandomForestClassifier"
   ]
  },
  {
   "cell_type": "code",
   "execution_count": 2,
   "id": "717809e8",
   "metadata": {},
   "outputs": [],
   "source": [
    "data = pd.read_csv(\"shelter_cleaned.csv\").iloc[:, 1:]"
   ]
  },
  {
   "cell_type": "code",
   "execution_count": 3,
   "id": "f3be8da0",
   "metadata": {},
   "outputs": [
    {
     "data": {
      "text/html": [
       "<div>\n",
       "<style scoped>\n",
       "    .dataframe tbody tr th:only-of-type {\n",
       "        vertical-align: middle;\n",
       "    }\n",
       "\n",
       "    .dataframe tbody tr th {\n",
       "        vertical-align: top;\n",
       "    }\n",
       "\n",
       "    .dataframe thead th {\n",
       "        text-align: right;\n",
       "    }\n",
       "</style>\n",
       "<table border=\"1\" class=\"dataframe\">\n",
       "  <thead>\n",
       "    <tr style=\"text-align: right;\">\n",
       "      <th></th>\n",
       "      <th>Name</th>\n",
       "      <th>Named by Shelter</th>\n",
       "      <th>Type</th>\n",
       "      <th>Breed</th>\n",
       "      <th>Color</th>\n",
       "      <th>Sex</th>\n",
       "      <th>Protected</th>\n",
       "      <th>Size</th>\n",
       "      <th>Date Of Birth</th>\n",
       "      <th>Impound Number</th>\n",
       "      <th>...</th>\n",
       "      <th>Outcome Subtype</th>\n",
       "      <th>Intake Condition</th>\n",
       "      <th>Outcome Condition</th>\n",
       "      <th>Intake Jurisdiction</th>\n",
       "      <th>Outcome Jurisdiction</th>\n",
       "      <th>Outcome Zip Code</th>\n",
       "      <th>Location</th>\n",
       "      <th>Count</th>\n",
       "      <th>Age</th>\n",
       "      <th>Before Covid</th>\n",
       "    </tr>\n",
       "  </thead>\n",
       "  <tbody>\n",
       "    <tr>\n",
       "      <th>0</th>\n",
       "      <td>REMY</td>\n",
       "      <td>False</td>\n",
       "      <td>DOG</td>\n",
       "      <td>BEAGLE</td>\n",
       "      <td>BLACK/WHITE</td>\n",
       "      <td>Female</td>\n",
       "      <td>False</td>\n",
       "      <td>MED</td>\n",
       "      <td>2014-04-11</td>\n",
       "      <td>K21-039564</td>\n",
       "      <td>...</td>\n",
       "      <td>OVER THE COUNTER_WEB</td>\n",
       "      <td>UNKNOWN</td>\n",
       "      <td>PENDING</td>\n",
       "      <td>SANTA ROSA</td>\n",
       "      <td>SANTA ROSA</td>\n",
       "      <td>95407.0</td>\n",
       "      <td>95407(38.403734, -122.736775)</td>\n",
       "      <td>1</td>\n",
       "      <td>8.0</td>\n",
       "      <td>True</td>\n",
       "    </tr>\n",
       "    <tr>\n",
       "      <th>1</th>\n",
       "      <td>RONDE</td>\n",
       "      <td>True</td>\n",
       "      <td>DOG</td>\n",
       "      <td>CHIHUAHUA SH</td>\n",
       "      <td>TAN</td>\n",
       "      <td>Male</td>\n",
       "      <td>True</td>\n",
       "      <td>SMALL</td>\n",
       "      <td>2020-07-24</td>\n",
       "      <td>K21-039133</td>\n",
       "      <td>...</td>\n",
       "      <td>SCAS WEB</td>\n",
       "      <td>HEALTHY</td>\n",
       "      <td>HEALTHY</td>\n",
       "      <td>SANTA ROSA</td>\n",
       "      <td>*PETALUMA</td>\n",
       "      <td>94954.0</td>\n",
       "      <td>94954(38.245316, -122.59871)</td>\n",
       "      <td>1</td>\n",
       "      <td>1.0</td>\n",
       "      <td>True</td>\n",
       "    </tr>\n",
       "    <tr>\n",
       "      <th>2</th>\n",
       "      <td>SNOOP</td>\n",
       "      <td>True</td>\n",
       "      <td>CAT</td>\n",
       "      <td>DOMESTIC SH</td>\n",
       "      <td>GRAY</td>\n",
       "      <td>Male</td>\n",
       "      <td>True</td>\n",
       "      <td>SMALL</td>\n",
       "      <td>2019-08-04</td>\n",
       "      <td>K21-039232</td>\n",
       "      <td>...</td>\n",
       "      <td>SCAS WEB</td>\n",
       "      <td>HEALTHY</td>\n",
       "      <td>HEALTHY</td>\n",
       "      <td>SANTA ROSA</td>\n",
       "      <td>SANTA ROSA</td>\n",
       "      <td>95405.0</td>\n",
       "      <td>95405(38.439152, -122.672541)</td>\n",
       "      <td>1</td>\n",
       "      <td>2.0</td>\n",
       "      <td>True</td>\n",
       "    </tr>\n",
       "    <tr>\n",
       "      <th>3</th>\n",
       "      <td>FIFI</td>\n",
       "      <td>False</td>\n",
       "      <td>CAT</td>\n",
       "      <td>SIAMESE</td>\n",
       "      <td>SEAL PT</td>\n",
       "      <td>Female</td>\n",
       "      <td>True</td>\n",
       "      <td>KITTN</td>\n",
       "      <td>2020-10-27</td>\n",
       "      <td>K21-037796</td>\n",
       "      <td>...</td>\n",
       "      <td>SCAS WEB</td>\n",
       "      <td>UNKNOWN</td>\n",
       "      <td>PENDING</td>\n",
       "      <td>SANTA ROSA</td>\n",
       "      <td>SANTA ROSA</td>\n",
       "      <td>95407.0</td>\n",
       "      <td>95407(38.403734, -122.736775)</td>\n",
       "      <td>1</td>\n",
       "      <td>1.0</td>\n",
       "      <td>True</td>\n",
       "    </tr>\n",
       "    <tr>\n",
       "      <th>4</th>\n",
       "      <td>MERLIN</td>\n",
       "      <td>True</td>\n",
       "      <td>CAT</td>\n",
       "      <td>DOMESTIC SH</td>\n",
       "      <td>BRN TABBY</td>\n",
       "      <td>Male</td>\n",
       "      <td>True</td>\n",
       "      <td>SMALL</td>\n",
       "      <td>2018-01-16</td>\n",
       "      <td>K21-037709</td>\n",
       "      <td>...</td>\n",
       "      <td>SCAS WEB</td>\n",
       "      <td>UNKNOWN</td>\n",
       "      <td>PENDING</td>\n",
       "      <td>SANTA ROSA</td>\n",
       "      <td>COUNTY</td>\n",
       "      <td>94952.0</td>\n",
       "      <td>94952(38.236012, -122.730241)</td>\n",
       "      <td>1</td>\n",
       "      <td>4.0</td>\n",
       "      <td>True</td>\n",
       "    </tr>\n",
       "  </tbody>\n",
       "</table>\n",
       "<p>5 rows × 28 columns</p>\n",
       "</div>"
      ],
      "text/plain": [
       "     Name  Named by Shelter Type         Breed        Color     Sex  \\\n",
       "0    REMY             False  DOG        BEAGLE  BLACK/WHITE  Female   \n",
       "1   RONDE              True  DOG  CHIHUAHUA SH          TAN    Male   \n",
       "2   SNOOP              True  CAT   DOMESTIC SH         GRAY    Male   \n",
       "3    FIFI             False  CAT       SIAMESE      SEAL PT  Female   \n",
       "4  MERLIN              True  CAT   DOMESTIC SH    BRN TABBY    Male   \n",
       "\n",
       "   Protected   Size Date Of Birth Impound Number  ...       Outcome Subtype  \\\n",
       "0      False    MED    2014-04-11     K21-039564  ...  OVER THE COUNTER_WEB   \n",
       "1       True  SMALL    2020-07-24     K21-039133  ...              SCAS WEB   \n",
       "2       True  SMALL    2019-08-04     K21-039232  ...              SCAS WEB   \n",
       "3       True  KITTN    2020-10-27     K21-037796  ...              SCAS WEB   \n",
       "4       True  SMALL    2018-01-16     K21-037709  ...              SCAS WEB   \n",
       "\n",
       "  Intake Condition Outcome Condition Intake Jurisdiction  \\\n",
       "0          UNKNOWN           PENDING          SANTA ROSA   \n",
       "1          HEALTHY           HEALTHY          SANTA ROSA   \n",
       "2          HEALTHY           HEALTHY          SANTA ROSA   \n",
       "3          UNKNOWN           PENDING          SANTA ROSA   \n",
       "4          UNKNOWN           PENDING          SANTA ROSA   \n",
       "\n",
       "   Outcome Jurisdiction Outcome Zip Code                       Location Count  \\\n",
       "0            SANTA ROSA          95407.0  95407(38.403734, -122.736775)     1   \n",
       "1             *PETALUMA          94954.0   94954(38.245316, -122.59871)     1   \n",
       "2            SANTA ROSA          95405.0  95405(38.439152, -122.672541)     1   \n",
       "3            SANTA ROSA          95407.0  95407(38.403734, -122.736775)     1   \n",
       "4                COUNTY          94952.0  94952(38.236012, -122.730241)     1   \n",
       "\n",
       "   Age Before Covid  \n",
       "0  8.0         True  \n",
       "1  1.0         True  \n",
       "2  2.0         True  \n",
       "3  1.0         True  \n",
       "4  4.0         True  \n",
       "\n",
       "[5 rows x 28 columns]"
      ]
     },
     "execution_count": 3,
     "metadata": {},
     "output_type": "execute_result"
    }
   ],
   "source": [
    "data.head()"
   ]
  },
  {
   "cell_type": "code",
   "execution_count": 4,
   "id": "3976ba4a",
   "metadata": {},
   "outputs": [
    {
     "data": {
      "text/plain": [
       "Name                    4452\n",
       "Named by Shelter           0\n",
       "Type                       0\n",
       "Breed                      0\n",
       "Color                      0\n",
       "Sex                        0\n",
       "Protected                  0\n",
       "Size                      33\n",
       "Date Of Birth           4155\n",
       "Impound Number             0\n",
       "Kennel Number             15\n",
       "Animal ID                  0\n",
       "Intake Date                0\n",
       "Outcome Date             139\n",
       "Days in Shelter            0\n",
       "Intake Type                0\n",
       "Intake Subtype             0\n",
       "Outcome Type             140\n",
       "Outcome Subtype          337\n",
       "Intake Condition           0\n",
       "Outcome Condition        360\n",
       "Intake Jurisdiction        0\n",
       "Outcome Jurisdiction    2632\n",
       "Outcome Zip Code        2688\n",
       "Location                2688\n",
       "Count                      0\n",
       "Age                      118\n",
       "Before Covid               0\n",
       "dtype: int64"
      ]
     },
     "execution_count": 4,
     "metadata": {},
     "output_type": "execute_result"
    }
   ],
   "source": [
    "data.isna().sum()"
   ]
  },
  {
   "cell_type": "code",
   "execution_count": 5,
   "id": "b4ae0181",
   "metadata": {},
   "outputs": [
    {
     "data": {
      "text/plain": [
       "Name                     object\n",
       "Named by Shelter           bool\n",
       "Type                     object\n",
       "Breed                    object\n",
       "Color                    object\n",
       "Sex                      object\n",
       "Protected                  bool\n",
       "Size                     object\n",
       "Date Of Birth            object\n",
       "Impound Number           object\n",
       "Kennel Number            object\n",
       "Animal ID                object\n",
       "Intake Date              object\n",
       "Outcome Date             object\n",
       "Days in Shelter           int64\n",
       "Intake Type              object\n",
       "Intake Subtype           object\n",
       "Outcome Type             object\n",
       "Outcome Subtype          object\n",
       "Intake Condition         object\n",
       "Outcome Condition        object\n",
       "Intake Jurisdiction      object\n",
       "Outcome Jurisdiction     object\n",
       "Outcome Zip Code        float64\n",
       "Location                 object\n",
       "Count                     int64\n",
       "Age                     float64\n",
       "Before Covid               bool\n",
       "dtype: object"
      ]
     },
     "execution_count": 5,
     "metadata": {},
     "output_type": "execute_result"
    }
   ],
   "source": [
    "data.dtypes"
   ]
  },
  {
   "cell_type": "code",
   "execution_count": 6,
   "id": "d3f23002",
   "metadata": {},
   "outputs": [
    {
     "data": {
      "text/plain": [
       "95403(38.486997, -122.749134)    2654\n",
       "95407(38.403734, -122.736775)    2594\n",
       "95404(38.458384, -122.675588)    1409\n",
       "95492(38.541541, -122.809202)    1379\n",
       "95401(38.446019, -122.766748)    1357\n",
       "                                 ... \n",
       "97479(43.402832, -123.204046)       1\n",
       "91321(34.370818, -118.506223)       1\n",
       "95351(37.624093, -120.99781)        1\n",
       "75116(32.659268, -96.913533)        1\n",
       "95519(40.947237, -124.073351)       1\n",
       "Name: Location, Length: 619, dtype: int64"
      ]
     },
     "execution_count": 6,
     "metadata": {},
     "output_type": "execute_result"
    }
   ],
   "source": [
    "data[\"Location\"].value_counts()"
   ]
  },
  {
   "cell_type": "code",
   "execution_count": 7,
   "id": "846398ad",
   "metadata": {},
   "outputs": [],
   "source": [
    "data = data.dropna(subset=['Age', 'Outcome Type'])"
   ]
  },
  {
   "cell_type": "code",
   "execution_count": 8,
   "id": "409b6016",
   "metadata": {},
   "outputs": [],
   "source": [
    "include = [\"Named by Shelter\", \"Type\", \"Breed\", \"Color\", \"Sex\", \"Protected\",\n",
    "           \"Size\", \"Days in Shelter\", \"Intake Type\", \"Intake Condition\", \"Age\", \"Before Covid\", \"Location\"]"
   ]
  },
  {
   "cell_type": "code",
   "execution_count": 9,
   "id": "77db4c4c",
   "metadata": {},
   "outputs": [],
   "source": [
    "xtrain, xtest, ytrain, ytest = train_test_split(data[include],\n",
    "                                                data[\"Outcome Type\"], train_size = 0.8)"
   ]
  },
  {
   "cell_type": "code",
   "execution_count": 10,
   "id": "3c186ebc",
   "metadata": {},
   "outputs": [],
   "source": [
    "ohe = Pipeline([(\"other_OHE\", OneHotEncoder(\n",
    "    handle_unknown='ignore'))])\n",
    "\n",
    "stdscalar = Pipeline([(\"stdscalar\", StandardScaler())])\n",
    "\n",
    "transformer = ColumnTransformer([\n",
    "    (\"ohe\", ohe, [\"Type\", \"Breed\", \"Color\", \"Sex\", \"Size\", \"Intake Type\", \"Intake Condition\", \"Location\"]),\n",
    "    (\"standardize\", stdscalar, [\"Days in Shelter\", \"Age\"])\n",
    "])\n",
    "\n",
    "dtc = Pipeline([\n",
    "    (\"transform\", transformer),\n",
    "    (\"classify\", DecisionTreeClassifier())\n",
    "])"
   ]
  },
  {
   "cell_type": "code",
   "execution_count": 11,
   "id": "a3f34640",
   "metadata": {},
   "outputs": [
    {
     "data": {
      "text/plain": [
       "0.839859437751004"
      ]
     },
     "execution_count": 11,
     "metadata": {},
     "output_type": "execute_result"
    }
   ],
   "source": [
    "dtc.fit(xtrain, ytrain)\n",
    "dtc.score(xtest, ytest)"
   ]
  },
  {
   "cell_type": "code",
   "execution_count": 12,
   "id": "3df783ef",
   "metadata": {},
   "outputs": [],
   "source": [
    "#OHE pipeline for mos_ethnicity, allegation, precinct\n",
    "ohe = Pipeline([(\"other_OHE\", OneHotEncoder(\n",
    "    handle_unknown='ignore'))])\n",
    "\n",
    "#Standardize pipeline for Months Before Resolved\n",
    "stdscalar = Pipeline([(\"stdscalar\", StandardScaler())])\n",
    "\n",
    "transformer = ColumnTransformer([\n",
    "    (\"ohe\", ohe, [\"Type\", \"Breed\", \"Color\", \"Sex\", \"Size\", \"Intake Type\", \"Intake Condition\", \"Location\"]),\n",
    "    (\"standardize\", stdscalar, [\"Days in Shelter\", \"Age\"])\n",
    "])\n",
    "\n",
    "knn = Pipeline([\n",
    "    (\"transform\", transformer),\n",
    "    (\"classify\", KNeighborsClassifier())\n",
    "])"
   ]
  },
  {
   "cell_type": "code",
   "execution_count": 13,
   "id": "2ca1ad92",
   "metadata": {},
   "outputs": [
    {
     "data": {
      "text/plain": [
       "0.7743473895582329"
      ]
     },
     "execution_count": 13,
     "metadata": {},
     "output_type": "execute_result"
    }
   ],
   "source": [
    "knn.fit(xtrain, ytrain)\n",
    "knn.score(xtest, ytest)"
   ]
  },
  {
   "cell_type": "code",
   "execution_count": 14,
   "id": "c0049712",
   "metadata": {},
   "outputs": [],
   "source": [
    "#OHE pipeline for mos_ethnicity, allegation, precinct\n",
    "ohe = Pipeline([(\"other_OHE\", OneHotEncoder(\n",
    "    handle_unknown='ignore'))])\n",
    "\n",
    "#Standardize pipeline for Months Before Resolved\n",
    "stdscalar = Pipeline([(\"stdscalar\", StandardScaler())])\n",
    "\n",
    "transformer = ColumnTransformer([\n",
    "    (\"ohe\", ohe, [\"Type\", \"Breed\", \"Color\", \"Sex\", \"Size\", \"Intake Type\", \"Intake Condition\", \"Location\"]),\n",
    "    (\"standardize\", stdscalar, [\"Days in Shelter\", \"Age\"])\n",
    "])\n",
    "\n",
    "rfc = Pipeline([\n",
    "    (\"transform\", transformer),\n",
    "    (\"classify\", RandomForestClassifier())\n",
    "])"
   ]
  },
  {
   "cell_type": "code",
   "execution_count": 15,
   "id": "d847773b",
   "metadata": {},
   "outputs": [
    {
     "data": {
      "text/plain": [
       "0.8629518072289156"
      ]
     },
     "execution_count": 15,
     "metadata": {},
     "output_type": "execute_result"
    }
   ],
   "source": [
    "rfc.fit(xtrain, ytrain)\n",
    "rfc.score(xtest, ytest)"
   ]
  }
 ],
 "metadata": {
  "kernelspec": {
   "display_name": "Python 3 (ipykernel)",
   "language": "python",
   "name": "python3"
  },
  "language_info": {
   "codemirror_mode": {
    "name": "ipython",
    "version": 3
   },
   "file_extension": ".py",
   "mimetype": "text/x-python",
   "name": "python",
   "nbconvert_exporter": "python",
   "pygments_lexer": "ipython3",
   "version": "3.10.8"
  }
 },
 "nbformat": 4,
 "nbformat_minor": 5
}
